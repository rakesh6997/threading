{
 "cells": [
  {
   "cell_type": "code",
   "execution_count": 2,
   "metadata": {},
   "outputs": [
    {
     "name": "stdout",
     "output_type": "stream",
     "text": [
      "current thread that is running: MainThread\n",
      "main thread\n"
     ]
    }
   ],
   "source": [
    "#multi treading\n",
    "import threading\n",
    "print(\"current thread that is running:\",threading.current_thread().getName())\n",
    "if threading.current_thread()==threading.main_thread():\n",
    "    print(\"main thread\")\n",
    "else:\n",
    "    print(\"some other thread\")"
   ]
  },
  {
   "cell_type": "code",
   "execution_count": 5,
   "metadata": {},
   "outputs": [
    {
     "name": "stdout",
     "output_type": "stream",
     "text": [
      "0\n",
      "1\n",
      "2\n",
      "3\n",
      "4\n",
      "5\n",
      "6\n",
      "7\n",
      "8\n",
      "9\n",
      "10\n"
     ]
    }
   ],
   "source": [
    "#function.py\n",
    "from threading import Thread\n",
    "def displayNumbers():\n",
    "    i=0\n",
    "    while(i<=10):\n",
    "        print(i)\n",
    "        i+=1\n",
    "t=Thread(target=displayNumbers)\n",
    "t.start()"
   ]
  },
  {
   "cell_type": "code",
   "execution_count": 11,
   "metadata": {},
   "outputs": [
    {
     "name": "stdout",
     "output_type": "stream",
     "text": [
      "MainThread\n",
      "Thread-7\n",
      "0\n",
      "1\n",
      "2\n",
      "3\n",
      "4\n",
      "5\n",
      "6\n",
      "7\n",
      "8\n",
      "9\n",
      "10\n"
     ]
    }
   ],
   "source": [
    "from threading import *\n",
    "def displayNumbers():\n",
    "    i=0\n",
    "    print(current_thread().getName())\n",
    "    while(i<=10):\n",
    "        print(i)\n",
    "        i+=1\n",
    "print(current_thread().getName())\n",
    "t=Thread(target=displayNumbers)\n",
    "t.start()"
   ]
  },
  {
   "cell_type": "code",
   "execution_count": 16,
   "metadata": {},
   "outputs": [
    {
     "name": "stdout",
     "output_type": "stream",
     "text": [
      "MainThread\n",
      "Thread-12\n",
      "0\n",
      "1\n",
      "2\n",
      "3\n",
      "4\n",
      "5\n",
      "6\n",
      "7\n",
      "8\n",
      "9\n",
      "10\n"
     ]
    }
   ],
   "source": [
    "#using sub class\n",
    "from threading import Thread\n",
    "def displayNumbers():\n",
    "    i=0\n",
    "    print(current_thread().getName())\n",
    "    while(i<=10):\n",
    "        print(i)\n",
    "        i+=1\n",
    "print(current_thread().getName())\n",
    "t=Thread(target=displayNumbers)\n",
    "t.start()\n"
   ]
  },
  {
   "cell_type": "code",
   "execution_count": null,
   "metadata": {},
   "outputs": [],
   "source": [
    "#using sub-class\n",
    "from threading import *\n"
   ]
  },
  {
   "cell_type": "code",
   "execution_count": 18,
   "metadata": {},
   "outputs": [
    {
     "name": "stdout",
     "output_type": "stream",
     "text": [
      "0\n",
      "1\n",
      "2\n",
      "3\n",
      "4\n",
      "5\n",
      "6\n",
      "7\n",
      "8\n",
      "9\n",
      "10\n"
     ]
    }
   ],
   "source": [
    "from threading import Thread\n",
    "class MyThread(Thread):\n",
    "    def run(self):\n",
    "        i=0\n",
    "        while(i<=10):\n",
    "            print(i)\n",
    "            i+=1\n",
    "t=MyThread()\n",
    "t.start()"
   ]
  },
  {
   "cell_type": "code",
   "execution_count": 30,
   "metadata": {},
   "outputs": [
    {
     "name": "stdout",
     "output_type": "stream",
     "text": [
      "Thread-38\n",
      "Thread-39\n",
      "Thread-40\n",
      "000\n",
      "\n",
      "\n"
     ]
    }
   ],
   "source": [
    "#using class\n",
    "from threading import *\n",
    "from time import sleep\n",
    "\n",
    "class MyThread:\n",
    "    def displayNumbers(self):\n",
    "        i=0\n",
    "        print(current_thread().getName())\n",
    "        sleep(1)\n",
    "        while(i<=0):\n",
    "            print(i)\n",
    "            i+=1\n",
    "obj=MyThread()\n",
    "t=Thread(target=obj.displayNumbers)\n",
    "t.start()\n",
    "t2=Thread(target=obj.displayNumbers)\n",
    "t2.start()\n",
    "t3=Thread(target=obj.displayNumbers)\n",
    "t3.start()"
   ]
  },
  {
   "cell_type": "code",
   "execution_count": 31,
   "metadata": {},
   "outputs": [
    {
     "name": "stdout",
     "output_type": "stream",
     "text": [
      "conforming a seat\n",
      "processing the payment\n",
      "printig the ticket\n",
      "conforming a seat\n",
      "processing the payment\n",
      "printig the ticket\n",
      "conforming a seat\n",
      "processing the payment\n",
      "printig the ticket\n"
     ]
    }
   ],
   "source": [
    "from threading import *\n",
    "class BookMyBus:\n",
    "    def buy(self):\n",
    "        print(\"conforming a seat\")\n",
    "        print(\"processing the payment\")\n",
    "        print(\"printig the ticket\")\n",
    "obj=BookMyBus()\n",
    "t1=Thread(target=obj.buy())\n",
    "t2=Thread(target=obj.buy())\n",
    "t3=Thread(target=obj.buy())"
   ]
  },
  {
   "cell_type": "code",
   "execution_count": 7,
   "metadata": {},
   "outputs": [
    {
     "name": "stdout",
     "output_type": "stream",
     "text": [
      "total seats available: 10\n",
      "conforming a seat\n",
      "processing the payment\n",
      "printig the ticket\n",
      "total seats available: 7\n",
      "conforming a seat\n",
      "processing the payment\n",
      "printig the ticket\n",
      "total seats available: 3\n",
      "conforming a seat\n",
      "processing the payment\n",
      "printig the ticket\n"
     ]
    }
   ],
   "source": [
    "from threading import *\n",
    "class BookMyBus:\n",
    "    def __init__(self,availableSeats):\n",
    "        self.availableSeats=availableSeats\n",
    "        self.l=Semaphore()\n",
    "    def buy(self,SeatsRequested):\n",
    "        self.l.acquire()\n",
    "        print(\"total seats available:\",self.availableSeats)\n",
    "        if(self.availableSeats>=SeatsRequested):\n",
    "            print(\"conforming a seat\")\n",
    "            print(\"processing the payment\")\n",
    "            print(\"printig the ticket\")\n",
    "            self.availableSeats-=SeatsRequested\n",
    "        else:\n",
    "            print(\"sorry no Seats available\")\n",
    "        self.l.release()\n",
    "        \n",
    "obj=BookMyBus(10)\n",
    "t1=Thread(target=obj.buy,args=(3,))\n",
    "t2=Thread(target=obj.buy,args=(4,))\n",
    "t3=Thread(target=obj.buy,args=(3,))\n",
    "t1.start()\n",
    "t2.start()\n",
    "t3.start()"
   ]
  },
  {
   "cell_type": "code",
   "execution_count": 15,
   "metadata": {},
   "outputs": [
    {
     "name": "stdout",
     "output_type": "stream",
     "text": [
      "waiting for the orders\n",
      "waiting for the orders\n",
      "waiting for the orders\n",
      "waiting for the orders\n",
      "waiting for the orders\n",
      "item added\n",
      "waiting for the orders\n",
      "waiting for the orders\n",
      "waiting for the orders\n",
      "waiting for the orders\n",
      "waiting for the orders\n",
      "item added\n",
      "waiting for the orders\n",
      "waiting for the orders\n",
      "waiting for the orders\n",
      "waiting for the orders\n",
      "waiting for the orders\n",
      "item added\n",
      "waiting for the orders\n",
      "waiting for the orders\n",
      "waiting for the orders\n",
      "waiting for the orders\n",
      "waiting for the orders\n",
      "item added\n",
      "orders shipped ['product1', 'product2', 'product3', 'product4']\n"
     ]
    }
   ],
   "source": [
    "#thread communication \n",
    "from threading import *;\n",
    "from time import *;\n",
    "class Producer:\n",
    "    def __init__(self):\n",
    "        self.products=[]\n",
    "        self.ordersplaced=False\n",
    "    def produce(self):\n",
    "        for i in range(1,5):\n",
    "            self.products.append(\"product\"+str(i))\n",
    "            sleep(1)\n",
    "            print(\"item added\")\n",
    "        self.ordersplaced=True\n",
    "class Consumer:\n",
    "    def __init__(self,prod):\n",
    "        self.prod=prod\n",
    "    def consume(self):\n",
    "        while self.prod.ordersplaced==False:\n",
    "            print(\"waiting for the orders\")\n",
    "            sleep(0.2)\n",
    "        print(\"orders shipped\",self.prod.products)\n",
    "p=Producer()\n",
    "c=Consumer(p)\n",
    "t1=Thread(target=p.produce)\n",
    "t2=Thread(target=c.consume)\n",
    "t1.start()\n",
    "t2.start()\n",
    "            \n",
    "    \n",
    "\n"
   ]
  },
  {
   "cell_type": "code",
   "execution_count": 16,
   "metadata": {},
   "outputs": [
    {
     "name": "stdout",
     "output_type": "stream",
     "text": [
      "item added\n",
      "item added\n",
      "item added\n",
      "item added\n",
      "orders shipped ['product1', 'product2', 'product3', 'product4']\n"
     ]
    }
   ],
   "source": [
    "from threading import *;\n",
    "from time import *;\n",
    "class Producer:\n",
    "    def __init__(self):\n",
    "        self.products=[]\n",
    "        self.c=Condition()\n",
    "    def produce(self):\n",
    "        self.c.acquire()\n",
    "        for i in range(1,5):\n",
    "            self.products.append(\"product\"+str(i))\n",
    "            sleep(1)\n",
    "            print(\"item added\")\n",
    "        self.c.notify()\n",
    "        self.c.release()\n",
    "class Consumer:\n",
    "    def __init__(self,prod):\n",
    "        self.prod=prod\n",
    "    def consume(self):\n",
    "        self.prod.c.acquire()\n",
    "        self.prod.c.wait(timeout=0)\n",
    "        self.prod.c.release()\n",
    "            \n",
    "        print(\"orders shipped\",self.prod.products)\n",
    "p=Producer()\n",
    "c=Consumer(p)\n",
    "t1=Thread(target=p.produce)\n",
    "t2=Thread(target=c.consume)\n",
    "t1.start()\n",
    "t2.start()\n",
    "          "
   ]
  },
  {
   "cell_type": "code",
   "execution_count": null,
   "metadata": {},
   "outputs": [
    {
     "name": "stdout",
     "output_type": "stream",
     "text": [
      "2\n",
      "4\n",
      "6\n",
      "8\n",
      "10\n",
      "12\n",
      "14\n",
      "16\n",
      "18\n",
      "20\n",
      "22\n",
      "24\n",
      "26\n",
      "28\n",
      "30\n",
      "32\n",
      "34\n",
      "36\n",
      "38\n",
      "40\n",
      "42\n",
      "44\n",
      "46\n",
      "48\n",
      "50\n",
      "52\n",
      "54\n",
      "56\n",
      "58\n",
      "60\n",
      "62\n",
      "64\n",
      "66\n",
      "68\n",
      "70\n",
      "72\n",
      "74\n",
      "76\n",
      "78\n",
      "80\n",
      "82\n",
      "84\n",
      "86\n",
      "88\n",
      "90\n",
      "92\n",
      "94\n",
      "96\n",
      "98\n",
      "100\n",
      "1\n",
      "3\n",
      "5\n",
      "7\n",
      "9\n",
      "11\n",
      "13\n",
      "15\n",
      "17\n",
      "19\n",
      "21\n",
      "23\n",
      "25\n",
      "27\n",
      "29\n",
      "31\n",
      "33\n",
      "35\n",
      "37\n",
      "39\n",
      "41\n",
      "43\n",
      "45\n",
      "47\n",
      "49\n",
      "51\n",
      "53\n",
      "55\n",
      "57\n",
      "59\n",
      "61\n",
      "63\n",
      "65\n",
      "67\n",
      "69\n"
     ]
    }
   ],
   "source": [
    "from threading import *\n",
    "import time\n",
    "class number:\n",
    "    def number(self):\n",
    "        for i in range(1,101):\n",
    "            time.sleep(1)\n",
    "            print(i)\n",
    "    def oddnumbers(self):\n",
    "        for i in range(1,101):\n",
    "            if i%2!=0:\n",
    "                time.sleep(1)\n",
    "                print(i)\n",
    "    def evennumbers(self):\n",
    "        for i in range(1,101):\n",
    "            if i%2==0:\n",
    "                time.sleep(1)\n",
    "                print(i)\n",
    "n=number()\n",
    "even=n.evennumbers()\n",
    "odd=n.oddnumbers()\n",
    "thread1=Thread(target=even.display())\n",
    "thread2=Thread(target=odd.display())\n",
    "thread1.start()\n",
    "thread2.start()"
   ]
  },
  {
   "cell_type": "code",
   "execution_count": 1,
   "metadata": {},
   "outputs": [],
   "source": [
    "#networking\n",
    "import urllib.request\n",
    "try:\n",
    "    url=urllib.request.urlopen(\"http://localhost:8888/notebooks/threading.ipynb\")\n",
    "    content=url.read()\n",
    "    url.close()\n",
    "except urllib.error.HTTPerror:\n",
    "    print(\"the web page is not found\")\n",
    "    exit()\n",
    "f=open(\"python.html\",\"wb\")\n",
    "f.write(content)\n",
    "f.close()\n",
    "\n"
   ]
  },
  {
   "cell_type": "code",
   "execution_count": 11,
   "metadata": {},
   "outputs": [
    {
     "ename": "gaierror",
     "evalue": "[Errno 11001] getaddrinfo failed",
     "output_type": "error",
     "traceback": [
      "\u001b[1;31m---------------------------------------------------------------------------\u001b[0m",
      "\u001b[1;31mgaierror\u001b[0m                                  Traceback (most recent call last)",
      "\u001b[1;32m<ipython-input-11-c205959262d6>\u001b[0m in \u001b[0;36m<module>\u001b[1;34m\u001b[0m\n\u001b[0;32m      4\u001b[0m \u001b[0mport\u001b[0m\u001b[1;33m=\u001b[0m\u001b[1;36m4000\u001b[0m\u001b[1;33m\u001b[0m\u001b[1;33m\u001b[0m\u001b[0m\n\u001b[0;32m      5\u001b[0m \u001b[0ms\u001b[0m\u001b[1;33m=\u001b[0m\u001b[0msocket\u001b[0m\u001b[1;33m.\u001b[0m\u001b[0msocket\u001b[0m\u001b[1;33m(\u001b[0m\u001b[0msocket\u001b[0m\u001b[1;33m.\u001b[0m\u001b[0mAF_INET\u001b[0m\u001b[1;33m,\u001b[0m\u001b[0msocket\u001b[0m\u001b[1;33m.\u001b[0m\u001b[0mSOCK_STREAM\u001b[0m\u001b[1;33m)\u001b[0m\u001b[1;33m\u001b[0m\u001b[1;33m\u001b[0m\u001b[0m\n\u001b[1;32m----> 6\u001b[1;33m \u001b[0ms\u001b[0m\u001b[1;33m.\u001b[0m\u001b[0mbind\u001b[0m\u001b[1;33m(\u001b[0m\u001b[1;33m(\u001b[0m\u001b[0mhost\u001b[0m\u001b[1;33m,\u001b[0m\u001b[0mport\u001b[0m\u001b[1;33m)\u001b[0m\u001b[1;33m)\u001b[0m\u001b[1;33m\u001b[0m\u001b[1;33m\u001b[0m\u001b[0m\n\u001b[0m\u001b[0;32m      7\u001b[0m \u001b[0mprint\u001b[0m\u001b[1;33m(\u001b[0m\u001b[1;34m\"server listening on port:\"\u001b[0m\u001b[1;33m,\u001b[0m\u001b[0mport\u001b[0m\u001b[1;33m)\u001b[0m\u001b[1;33m\u001b[0m\u001b[1;33m\u001b[0m\u001b[0m\n\u001b[0;32m      8\u001b[0m \u001b[0ms\u001b[0m\u001b[1;33m.\u001b[0m\u001b[0mlisten\u001b[0m\u001b[1;33m(\u001b[0m\u001b[1;36m1\u001b[0m\u001b[1;33m)\u001b[0m\u001b[1;33m\u001b[0m\u001b[1;33m\u001b[0m\u001b[0m\n",
      "\u001b[1;31mgaierror\u001b[0m: [Errno 11001] getaddrinfo failed"
     ]
    }
   ],
   "source": [
    "#tcpip server\n",
    "import socket\n",
    "host=\"local host\"\n",
    "port=4000\n",
    "s=socket.socket(socket.AF_INET,socket.SOCK_STREAM)\n",
    "s.bind((host,port))\n",
    "print(\"server listening on port:\",port)\n",
    "s.listen(1)\n",
    "c,addr=s.accept()\n",
    "print(\"connection from:\",str(addr))\n",
    "c.send(b\"hello,how are you\")\n",
    "c.send(\"bye\".encode())\n",
    "c.close()"
   ]
  },
  {
   "cell_type": "code",
   "execution_count": 12,
   "metadata": {},
   "outputs": [
    {
     "ename": "ConnectionRefusedError",
     "evalue": "[WinError 10061] No connection could be made because the target machine actively refused it",
     "output_type": "error",
     "traceback": [
      "\u001b[1;31m---------------------------------------------------------------------------\u001b[0m",
      "\u001b[1;31mConnectionRefusedError\u001b[0m                    Traceback (most recent call last)",
      "\u001b[1;32m<ipython-input-12-a9cf75e6a5ee>\u001b[0m in \u001b[0;36m<module>\u001b[1;34m\u001b[0m\n\u001b[0;32m      1\u001b[0m \u001b[1;32mimport\u001b[0m \u001b[0msocket\u001b[0m\u001b[1;33m\u001b[0m\u001b[1;33m\u001b[0m\u001b[0m\n\u001b[0;32m      2\u001b[0m \u001b[0ms\u001b[0m\u001b[1;33m=\u001b[0m\u001b[0msocket\u001b[0m\u001b[1;33m.\u001b[0m\u001b[0msocket\u001b[0m\u001b[1;33m(\u001b[0m\u001b[1;33m)\u001b[0m\u001b[1;33m\u001b[0m\u001b[1;33m\u001b[0m\u001b[0m\n\u001b[1;32m----> 3\u001b[1;33m \u001b[0ms\u001b[0m\u001b[1;33m.\u001b[0m\u001b[0mconnect\u001b[0m\u001b[1;33m(\u001b[0m\u001b[1;33m(\u001b[0m\u001b[1;34m\"localhost\"\u001b[0m\u001b[1;33m,\u001b[0m\u001b[1;36m4000\u001b[0m\u001b[1;33m)\u001b[0m\u001b[1;33m)\u001b[0m\u001b[1;33m\u001b[0m\u001b[1;33m\u001b[0m\u001b[0m\n\u001b[0m\u001b[0;32m      4\u001b[0m \u001b[0mmsg\u001b[0m\u001b[1;33m=\u001b[0m\u001b[0ms\u001b[0m\u001b[1;33m.\u001b[0m\u001b[0mrecv\u001b[0m\u001b[1;33m(\u001b[0m\u001b[1;36m1024\u001b[0m\u001b[1;33m)\u001b[0m\u001b[1;33m\u001b[0m\u001b[1;33m\u001b[0m\u001b[0m\n\u001b[0;32m      5\u001b[0m \u001b[1;32mwhile\u001b[0m \u001b[0mmsg\u001b[0m\u001b[1;33m:\u001b[0m\u001b[1;33m\u001b[0m\u001b[1;33m\u001b[0m\u001b[0m\n",
      "\u001b[1;31mConnectionRefusedError\u001b[0m: [WinError 10061] No connection could be made because the target machine actively refused it"
     ]
    }
   ],
   "source": [
    "import socket\n",
    "s=socket.socket()\n",
    "s.connect((\"localhost\",4000))\n",
    "msg=s.recv(1024)\n",
    "while msg:\n",
    "    print(\"Received\",msg.decode())\n",
    "    msg=s.recv(1024)\n",
    "s.close()"
   ]
  },
  {
   "cell_type": "code",
   "execution_count": null,
   "metadata": {},
   "outputs": [
    {
     "name": "stdout",
     "output_type": "stream",
     "text": [
      "server listining on port: 6767\n"
     ]
    }
   ],
   "source": [
    "import socket\n",
    "host=\"localhost\"\n",
    "port=6767\n",
    "s=socket.socket(socket.AF_INET,socket.SOCK_STREAM)\n",
    "s.bind((host,port))\n",
    "print(\"server listining on port:\",port)\n",
    "s.listen(1)\n",
    "c,addr=s.accept()\n",
    "fileName=c.recv(1024)\n",
    "try:\n",
    "    f=open(fileName,'rb')\n",
    "    content=f.read()\n",
    "    f.close()\n",
    "except FileNotFoundError:\n",
    "    c.send(b\"file does not exist\")\n",
    "c.close()"
   ]
  },
  {
   "cell_type": "code",
   "execution_count": 2,
   "metadata": {},
   "outputs": [
    {
     "ename": "ConnectionRefusedError",
     "evalue": "[WinError 10061] No connection could be made because the target machine actively refused it",
     "output_type": "error",
     "traceback": [
      "\u001b[1;31m---------------------------------------------------------------------------\u001b[0m",
      "\u001b[1;31mConnectionRefusedError\u001b[0m                    Traceback (most recent call last)",
      "\u001b[1;32m<ipython-input-2-6e6dce46573c>\u001b[0m in \u001b[0;36m<module>\u001b[1;34m\u001b[0m\n\u001b[0;32m      1\u001b[0m \u001b[1;32mimport\u001b[0m \u001b[0msocket\u001b[0m\u001b[1;33m\u001b[0m\u001b[1;33m\u001b[0m\u001b[0m\n\u001b[0;32m      2\u001b[0m \u001b[0ms\u001b[0m\u001b[1;33m=\u001b[0m\u001b[0msocket\u001b[0m\u001b[1;33m.\u001b[0m\u001b[0msocket\u001b[0m\u001b[1;33m(\u001b[0m\u001b[1;33m)\u001b[0m\u001b[1;33m\u001b[0m\u001b[1;33m\u001b[0m\u001b[0m\n\u001b[1;32m----> 3\u001b[1;33m \u001b[0ms\u001b[0m\u001b[1;33m.\u001b[0m\u001b[0mconnect\u001b[0m\u001b[1;33m(\u001b[0m\u001b[1;33m(\u001b[0m\u001b[1;34m\"localhost\"\u001b[0m\u001b[1;33m,\u001b[0m\u001b[1;36m6767\u001b[0m\u001b[1;33m)\u001b[0m\u001b[1;33m)\u001b[0m\u001b[1;33m\u001b[0m\u001b[1;33m\u001b[0m\u001b[0m\n\u001b[0m\u001b[0;32m      4\u001b[0m \u001b[0mfileName\u001b[0m\u001b[1;33m=\u001b[0m\u001b[0minput\u001b[0m\u001b[1;33m(\u001b[0m\u001b[1;34m\"enter a file name:\"\u001b[0m\u001b[1;33m)\u001b[0m\u001b[1;33m\u001b[0m\u001b[1;33m\u001b[0m\u001b[0m\n\u001b[0;32m      5\u001b[0m \u001b[0ms\u001b[0m\u001b[1;33m.\u001b[0m\u001b[0msend\u001b[0m\u001b[1;33m(\u001b[0m\u001b[0mfileName\u001b[0m\u001b[1;33m.\u001b[0m\u001b[0mencode\u001b[0m\u001b[1;33m(\u001b[0m\u001b[1;33m)\u001b[0m\u001b[1;33m)\u001b[0m\u001b[1;33m\u001b[0m\u001b[1;33m\u001b[0m\u001b[0m\n",
      "\u001b[1;31mConnectionRefusedError\u001b[0m: [WinError 10061] No connection could be made because the target machine actively refused it"
     ]
    }
   ],
   "source": [
    "import socket\n",
    "s=socket.socket()\n",
    "s.connect((\"localhost\",6767))\n",
    "fileName=input(\"enter a file name:\")\n",
    "s.send(fileName.encode())\n",
    "content=s.recv(1024)\n",
    "print(content.decode())\n",
    "s.close()"
   ]
  },
  {
   "cell_type": "code",
   "execution_count": 6,
   "metadata": {},
   "outputs": [
    {
     "ename": "SMTPAuthenticationError",
     "evalue": "(535, b'5.7.8 Username and Password not accepted. Learn more at\\n5.7.8  https://support.google.com/mail/?p=BadCredentials s6sm19505809pfd.24 - gsmtp')",
     "output_type": "error",
     "traceback": [
      "\u001b[1;31m---------------------------------------------------------------------------\u001b[0m",
      "\u001b[1;31mSMTPAuthenticationError\u001b[0m                   Traceback (most recent call last)",
      "\u001b[1;32m<ipython-input-6-1cd8f180d743>\u001b[0m in \u001b[0;36m<module>\u001b[1;34m\u001b[0m\n\u001b[0;32m      9\u001b[0m \u001b[0mserver\u001b[0m\u001b[1;33m=\u001b[0m\u001b[0msmtplib\u001b[0m\u001b[1;33m.\u001b[0m\u001b[0mSMTP\u001b[0m\u001b[1;33m(\u001b[0m\u001b[1;34m\"smtp.gmail.com\"\u001b[0m\u001b[1;33m,\u001b[0m\u001b[1;36m587\u001b[0m\u001b[1;33m)\u001b[0m\u001b[1;33m\u001b[0m\u001b[1;33m\u001b[0m\u001b[0m\n\u001b[0;32m     10\u001b[0m \u001b[0mserver\u001b[0m\u001b[1;33m.\u001b[0m\u001b[0mstarttls\u001b[0m\u001b[1;33m(\u001b[0m\u001b[1;33m)\u001b[0m\u001b[1;33m\u001b[0m\u001b[1;33m\u001b[0m\u001b[0m\n\u001b[1;32m---> 11\u001b[1;33m \u001b[0mserver\u001b[0m\u001b[1;33m.\u001b[0m\u001b[0mlogin\u001b[0m\u001b[1;33m(\u001b[0m\u001b[1;34m\"rakesh.rakhi6997@gmail.com\"\u001b[0m\u001b[1;33m,\u001b[0m\u001b[1;34m\"rakesh123\"\u001b[0m\u001b[1;33m)\u001b[0m\u001b[1;33m\u001b[0m\u001b[1;33m\u001b[0m\u001b[0m\n\u001b[0m\u001b[0;32m     12\u001b[0m \u001b[0mserver\u001b[0m\u001b[1;33m.\u001b[0m\u001b[0msend_msg\u001b[0m\u001b[1;33m(\u001b[0m\u001b[0mmsg\u001b[0m\u001b[1;33m)\u001b[0m\u001b[1;33m\u001b[0m\u001b[1;33m\u001b[0m\u001b[0m\n\u001b[0;32m     13\u001b[0m \u001b[0mprint\u001b[0m\u001b[1;33m(\u001b[0m\u001b[1;34m\"Mail sent\"\u001b[0m\u001b[1;33m)\u001b[0m\u001b[1;33m\u001b[0m\u001b[1;33m\u001b[0m\u001b[0m\n",
      "\u001b[1;32mC:\\ProgramData\\Anaconda3\\lib\\smtplib.py\u001b[0m in \u001b[0;36mlogin\u001b[1;34m(self, user, password, initial_response_ok)\u001b[0m\n\u001b[0;32m    728\u001b[0m \u001b[1;33m\u001b[0m\u001b[0m\n\u001b[0;32m    729\u001b[0m         \u001b[1;31m# We could not login successfully.  Return result of last attempt.\u001b[0m\u001b[1;33m\u001b[0m\u001b[1;33m\u001b[0m\u001b[1;33m\u001b[0m\u001b[0m\n\u001b[1;32m--> 730\u001b[1;33m         \u001b[1;32mraise\u001b[0m \u001b[0mlast_exception\u001b[0m\u001b[1;33m\u001b[0m\u001b[1;33m\u001b[0m\u001b[0m\n\u001b[0m\u001b[0;32m    731\u001b[0m \u001b[1;33m\u001b[0m\u001b[0m\n\u001b[0;32m    732\u001b[0m     \u001b[1;32mdef\u001b[0m \u001b[0mstarttls\u001b[0m\u001b[1;33m(\u001b[0m\u001b[0mself\u001b[0m\u001b[1;33m,\u001b[0m \u001b[0mkeyfile\u001b[0m\u001b[1;33m=\u001b[0m\u001b[1;32mNone\u001b[0m\u001b[1;33m,\u001b[0m \u001b[0mcertfile\u001b[0m\u001b[1;33m=\u001b[0m\u001b[1;32mNone\u001b[0m\u001b[1;33m,\u001b[0m \u001b[0mcontext\u001b[0m\u001b[1;33m=\u001b[0m\u001b[1;32mNone\u001b[0m\u001b[1;33m)\u001b[0m\u001b[1;33m:\u001b[0m\u001b[1;33m\u001b[0m\u001b[1;33m\u001b[0m\u001b[0m\n",
      "\u001b[1;32mC:\\ProgramData\\Anaconda3\\lib\\smtplib.py\u001b[0m in \u001b[0;36mlogin\u001b[1;34m(self, user, password, initial_response_ok)\u001b[0m\n\u001b[0;32m    719\u001b[0m                 (code, resp) = self.auth(\n\u001b[0;32m    720\u001b[0m                     \u001b[0mauthmethod\u001b[0m\u001b[1;33m,\u001b[0m \u001b[0mgetattr\u001b[0m\u001b[1;33m(\u001b[0m\u001b[0mself\u001b[0m\u001b[1;33m,\u001b[0m \u001b[0mmethod_name\u001b[0m\u001b[1;33m)\u001b[0m\u001b[1;33m,\u001b[0m\u001b[1;33m\u001b[0m\u001b[1;33m\u001b[0m\u001b[0m\n\u001b[1;32m--> 721\u001b[1;33m                     initial_response_ok=initial_response_ok)\n\u001b[0m\u001b[0;32m    722\u001b[0m                 \u001b[1;31m# 235 == 'Authentication successful'\u001b[0m\u001b[1;33m\u001b[0m\u001b[1;33m\u001b[0m\u001b[1;33m\u001b[0m\u001b[0m\n\u001b[0;32m    723\u001b[0m                 \u001b[1;31m# 503 == 'Error: already authenticated'\u001b[0m\u001b[1;33m\u001b[0m\u001b[1;33m\u001b[0m\u001b[1;33m\u001b[0m\u001b[0m\n",
      "\u001b[1;32mC:\\ProgramData\\Anaconda3\\lib\\smtplib.py\u001b[0m in \u001b[0;36mauth\u001b[1;34m(self, mechanism, authobject, initial_response_ok)\u001b[0m\n\u001b[0;32m    640\u001b[0m         \u001b[1;32mif\u001b[0m \u001b[0mcode\u001b[0m \u001b[1;32min\u001b[0m \u001b[1;33m(\u001b[0m\u001b[1;36m235\u001b[0m\u001b[1;33m,\u001b[0m \u001b[1;36m503\u001b[0m\u001b[1;33m)\u001b[0m\u001b[1;33m:\u001b[0m\u001b[1;33m\u001b[0m\u001b[1;33m\u001b[0m\u001b[0m\n\u001b[0;32m    641\u001b[0m             \u001b[1;32mreturn\u001b[0m \u001b[1;33m(\u001b[0m\u001b[0mcode\u001b[0m\u001b[1;33m,\u001b[0m \u001b[0mresp\u001b[0m\u001b[1;33m)\u001b[0m\u001b[1;33m\u001b[0m\u001b[1;33m\u001b[0m\u001b[0m\n\u001b[1;32m--> 642\u001b[1;33m         \u001b[1;32mraise\u001b[0m \u001b[0mSMTPAuthenticationError\u001b[0m\u001b[1;33m(\u001b[0m\u001b[0mcode\u001b[0m\u001b[1;33m,\u001b[0m \u001b[0mresp\u001b[0m\u001b[1;33m)\u001b[0m\u001b[1;33m\u001b[0m\u001b[1;33m\u001b[0m\u001b[0m\n\u001b[0m\u001b[0;32m    643\u001b[0m \u001b[1;33m\u001b[0m\u001b[0m\n\u001b[0;32m    644\u001b[0m     \u001b[1;32mdef\u001b[0m \u001b[0mauth_cram_md5\u001b[0m\u001b[1;33m(\u001b[0m\u001b[0mself\u001b[0m\u001b[1;33m,\u001b[0m \u001b[0mchallenge\u001b[0m\u001b[1;33m=\u001b[0m\u001b[1;32mNone\u001b[0m\u001b[1;33m)\u001b[0m\u001b[1;33m:\u001b[0m\u001b[1;33m\u001b[0m\u001b[1;33m\u001b[0m\u001b[0m\n",
      "\u001b[1;31mSMTPAuthenticationError\u001b[0m: (535, b'5.7.8 Username and Password not accepted. Learn more at\\n5.7.8  https://support.google.com/mail/?p=BadCredentials s6sm19505809pfd.24 - gsmtp')"
     ]
    }
   ],
   "source": [
    "#email client\n",
    "import smtplib\n",
    "from email.mime.text import  MIMEText\n",
    "body=\"this is a test email.how are you\"\n",
    "msg=MIMEText(body)\n",
    "msg['From']=\"springxyzabc@gmail.com\"\n",
    "msg['To']=\"springxyzabc@gmail.com\"\n",
    "msg['subject']=\"Hello\"\n",
    "server=smtplib.SMTP(\"smtp.gmail.com\",587)\n",
    "server.starttls()\n",
    "server.login(\"rakesh.rakhi6997@gmail.com\",\"rakesh123\")\n",
    "server.send_msg(msg)\n",
    "print(\"Mail sent\")\n",
    "server.quit()\n"
   ]
  },
  {
   "cell_type": "code",
   "execution_count": null,
   "metadata": {},
   "outputs": [],
   "source": []
  }
 ],
 "metadata": {
  "kernelspec": {
   "display_name": "Python 3",
   "language": "python",
   "name": "python3"
  },
  "language_info": {
   "codemirror_mode": {
    "name": "ipython",
    "version": 3
   },
   "file_extension": ".py",
   "mimetype": "text/x-python",
   "name": "python",
   "nbconvert_exporter": "python",
   "pygments_lexer": "ipython3",
   "version": "3.7.4"
  }
 },
 "nbformat": 4,
 "nbformat_minor": 2
}
